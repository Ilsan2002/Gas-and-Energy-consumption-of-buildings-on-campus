{
 "cells": [
  {
   "cell_type": "code",
   "execution_count": 1,
   "id": "a58269c7",
   "metadata": {},
   "outputs": [],
   "source": [
    "from email.message import EmailMessage\n",
    "from re import T\n",
    "import requests\n",
    "from bs4 import BeautifulSoup as BS\n",
    "import csv\n",
    "\n",
    "\n",
    "def get_response(url):\n",
    "    #get respons from url\n",
    "    resp = requests.get(url) #send requests to url\n",
    "    return resp.text \n",
    "\n",
    "def get_data(html):  # finding tegs in data that we got here up\n",
    "    soup = BS(html, 'lxml') # initializing object(instance) in Class 'BS' \n",
    "    grid = soup.find('div', class_='replace this item') #using method \"find\" on a 'soup' object\n"
   ]
  },
  {
   "cell_type": "code",
   "execution_count": null,
   "id": "9a69b216",
   "metadata": {},
   "outputs": [],
   "source": []
  }
 ],
 "metadata": {
  "kernelspec": {
   "display_name": "Python 3",
   "language": "python",
   "name": "python3"
  },
  "language_info": {
   "codemirror_mode": {
    "name": "ipython",
    "version": 3
   },
   "file_extension": ".py",
   "mimetype": "text/x-python",
   "name": "python",
   "nbconvert_exporter": "python",
   "pygments_lexer": "ipython3",
   "version": "3.8.8"
  }
 },
 "nbformat": 4,
 "nbformat_minor": 5
}
